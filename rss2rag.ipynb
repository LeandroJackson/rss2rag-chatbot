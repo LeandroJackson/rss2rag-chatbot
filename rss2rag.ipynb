{
  "cells": [
    {
      "cell_type": "markdown",
      "metadata": {
        "id": "h8mh9Si5j82S"
      },
      "source": [
        "### Instalação das dependencias\n"
      ]
    },
    {
      "cell_type": "code",
      "execution_count": null,
      "metadata": {
        "id": "rfHpOONrjoEe",
        "scrolled": true
      },
      "outputs": [],
      "source": [
        "!pip install feedparser beautifulsoup4\n",
        "!pip install transformers sentence-transformers\n",
        "!pip install bitsandbytes accelerate\n",
        "!pip install faiss-cpu -q"
      ]
    },
    {
      "cell_type": "code",
      "execution_count": null,
      "metadata": {
        "id": "8mVvOWmyOn-v"
      },
      "outputs": [],
      "source": [
        "import re\n",
        "import gc\n",
        "import numpy as np\n",
        "import pandas as pd\n",
        "import torch\n",
        "import faiss\n",
        "import feedparser\n",
        "from bs4 import BeautifulSoup\n",
        "from sentence_transformers import SentenceTransformer\n",
        "from transformers import AutoTokenizer, AutoModelForCausalLM, pipeline"
      ]
    },
    {
      "cell_type": "markdown",
      "metadata": {
        "id": "rALYsgPIPK6V"
      },
      "source": [
        "### Definição das Fontes RSS"
      ]
    },
    {
      "cell_type": "code",
      "execution_count": null,
      "metadata": {
        "id": "JG0793dckHQZ"
      },
      "outputs": [],
      "source": [
        "RSS_FEEDS = [\n",
        "    # --- Notícias Locais (Paraíba) ---\n",
        "    \"https://www.jornaldaparaiba.com.br/rss\",\n",
        "    \"https://www.clickpb.com.br/rss\",\n",
        "    \"https://www.paraibaonline.com.br/rss\",\n",
        "    \"https://www.pbagora.com.br/rss\",\n",
        "    \"https://f5online.com.br/feed/\",\n",
        "    \"https://www.portalt5.com.br/noticias/feed.rss\",\n",
        "    \"https://www.polemicaparaiba.com.br/feed/\",\n",
        "    \"https://www.maispb.com.br/feed\",                 # MaisPB\n",
        "    \"https://www.wscom.com.br/feed/\",                 # WSCOM Notícias\n",
        "\n",
        "    # --- Regionais (Nordeste) ---\n",
        "    \"https://www.diariodonordeste.com.br/rss.xml\",    # Diário do Nordeste (CE)\n",
        "    \"https://www.op9.com.br/feed/\",                   # OP9 (Nordeste)\n",
        "    \"https://www.cbnrecife.com/rss\",                  # CBN Recife\n",
        "    \"https://www.jornaldocomercio.com/_conteudo/feed\",# JC Online (PE)\n",
        "    \"https://www.atarde.com.br/rss\",                  # A Tarde (BA)\n",
        "\n",
        "    # --- Nacionais (Portais Diversos) ---\n",
        "    \"http://rss.uol.com.br/feed/noticias.xml\",        # UOL Notícias\n",
        "    \"https://noticias.r7.com/feed.xml\",               # R7 Notícias\n",
        "    \"https://www.estadao.com.br/rss/ultimas.xml\",     # Estadão Últimas\n",
        "    \"http://feeds.folha.uol.com.br/emcimadahora/rss091.xml\", # Folha em Cima da Hora\n",
        "    \"https://valor.globo.com/rss/\",                   # Valor Econômico\n",
        "    \"https://www.infomoney.com.br/feed/\",             # InfoMoney\n",
        "    \"https://oglobo.globo.com/rss.xml\",               # O Globo\n",
        "    \"https://www.cartacapital.com.br/feed/\",          # Carta Capital\n",
        "    \"https://www.conjur.com.br/index.php/feed\",       # Consultor Jurídico (Direito/Política)\n",
        "\n",
        "    # --- Nacionais (G1, por editoria) ---\n",
        "    \"https://g1.globo.com/rss/g1/brasil/\",\n",
        "    \"https://g1.globo.com/rss/g1/carros/\",\n",
        "    \"https://g1.globo.com/rss/g1/ciencia-e-saude/\",\n",
        "    \"https://g1.globo.com/rss/g1/economia/\",\n",
        "    \"https://g1.globo.com/rss/g1/educacao/\",\n",
        "    \"https://g1.globo.com/rss/g1/mundo/\",\n",
        "    \"https://g1.globo.com/rss/g1/politica/\",\n",
        "    \"https://g1.globo.com/rss/g1/tecnologia/\",\n",
        "    \"https://g1.globo.com/rss/g1/pb/paraiba/\",\n",
        "    \"https://g1.globo.com/rss/g1/pop-arte/\",           # Cultura\n",
        "    \"https://g1.globo.com/rss/g1/natureza/\",           # Meio Ambiente\n",
        "    \"https://g1.globo.com/rss/g1/turismo-e-viagem/\",   # Viagem\n",
        "    \"https://g1.globo.com/rss/g1/cultura/\",            # Artes e cultura\n",
        "    \"https://g1.globo.com/rss/g1/fato-ou-fake/\",       # Checagem de fatos\n",
        "    # Google News - consultas personalizadas\n",
        "    \"https://news.google.com/rss/search?q=Paraíba&hl=pt-BR&gl=BR&ceid=BR:pt-419\",\n",
        "    \"https://news.google.com/rss/search?q=Brasil&hl=pt-BR&gl=BR&ceid=BR:pt-419\",\n",
        "\n",
        "    # Capitais brasileiras\n",
        "    \"https://news.google.com/rss/search?q=Rio+Branco&hl=pt-BR&gl=BR&ceid=BR:pt-419\",\n",
        "    \"https://news.google.com/rss/search?q=Maceió&hl=pt-BR&gl=BR&ceid=BR:pt-419\",\n",
        "    \"https://news.google.com/rss/search?q=Macapá&hl=pt-BR&gl=BR&ceid=BR:pt-419\",\n",
        "    \"https://news.google.com/rss/search?q=Manaus&hl=pt-BR&gl=BR&ceid=BR:pt-419\",\n",
        "    \"https://news.google.com/rss/search?q=Salvador&hl=pt-BR&gl=BR&ceid=BR:pt-419\",\n",
        "    \"https://news.google.com/rss/search?q=Fortaleza&hl=pt-BR&gl=BR&ceid=BR:pt-419\",\n",
        "    \"https://news.google.com/rss/search?q=Brasília&hl=pt-BR&gl=BR&ceid=BR:pt-419\",\n",
        "    \"https://news.google.com/rss/search?q=Vitória&hl=pt-BR&gl=BR&ceid=BR:pt-419\",\n",
        "    \"https://news.google.com/rss/search?q=Goiânia&hl=pt-BR&gl=BR&ceid=BR:pt-419\",\n",
        "    \"https://news.google.com/rss/search?q=São+Luís&hl=pt-BR&gl=BR&ceid=BR:pt-419\",\n",
        "    \"https://news.google.com/rss/search?q=Cuiabá&hl=pt-BR&gl=BR&ceid=BR:pt-419\",\n",
        "    \"https://news.google.com/rss/search?q=Campo+Grande&hl=pt-BR&gl=BR&ceid=BR:pt-419\",\n",
        "    \"https://news.google.com/rss/search?q=Belo+Horizonte&hl=pt-BR&gl=BR&ceid=BR:pt-419\",\n",
        "    \"https://news.google.com/rss/search?q=Belém&hl=pt-BR&gl=BR&ceid=BR:pt-419\",\n",
        "    \"https://news.google.com/rss/search?q=João+Pessoa&hl=pt-BR&gl=BR&ceid=BR:pt-419\",\n",
        "    \"https://news.google.com/rss/search?q=Curitiba&hl=pt-BR&gl=BR&ceid=BR:pt-419\",\n",
        "    \"https://news.google.com/rss/search?q=Recife&hl=pt-BR&gl=BR&ceid=BR:pt-419\",\n",
        "    \"https://news.google.com/rss/search?q=Teresina&hl=pt-BR&gl=BR&ceid=BR:pt-419\",\n",
        "    \"https://news.google.com/rss/search?q=Rio+de+Janeiro&hl=pt-BR&gl=BR&ceid=BR:pt-419\",\n",
        "    \"https://news.google.com/rss/search?q=Natal&hl=pt-BR&gl=BR&ceid=BR:pt-419\",\n",
        "    \"https://news.google.com/rss/search?q=Porto+Alegre&hl=pt-BR&gl=BR&ceid=BR:pt-419\",\n",
        "    \"https://news.google.com/rss/search?q=Porto+Velho&hl=pt-BR&gl=BR&ceid=BR:pt-419\",\n",
        "    \"https://news.google.com/rss/search?q=Boa+Vista&hl=pt-BR&gl=BR&ceid=BR:pt-419\",\n",
        "    \"https://news.google.com/rss/search?q=Florianópolis&hl=pt-BR&gl=BR&ceid=BR:pt-419\",\n",
        "    \"https://news.google.com/rss/search?q=São+Paulo&hl=pt-BR&gl=BR&ceid=BR:pt-419\",\n",
        "    \"https://news.google.com/rss/search?q=Aracaju&hl=pt-BR&gl=BR&ceid=BR:pt-419\",\n",
        "    \"https://news.google.com/rss/search?q=Palmas&hl=pt-BR&gl=BR&ceid=BR:pt-419\"\n",
        "\n",
        "]\n"
      ]
    },
    {
      "cell_type": "markdown",
      "metadata": {
        "id": "6yvwWeI_PO1k"
      },
      "source": [
        "## Coleta e Pré-processamento dos Dados"
      ]
    },
    {
      "cell_type": "code",
      "execution_count": null,
      "metadata": {
        "id": "yJhMc_V4kK_G"
      },
      "outputs": [],
      "source": [
        "def fetch_and_clean_news(feed_urls):\n",
        "    articles = []\n",
        "    for url in feed_urls:\n",
        "        feed = feedparser.parse(url)\n",
        "        for entry in feed.entries:\n",
        "            soup = BeautifulSoup(entry.get('summary', ''), 'html.parser')\n",
        "            text_content = re.sub(r'\\s+', ' ', soup.get_text()).strip()\n",
        "\n",
        "            articles.append({\n",
        "                'fonte': feed.feed.get('title', 'N/A'),\n",
        "                'titulo': entry.title,\n",
        "                'link': entry.link,\n",
        "                'descricao': text_content,\n",
        "                'data': entry.get('published', 'N/A')\n",
        "            })\n",
        "    return pd.DataFrame(articles)\n",
        "\n",
        "df_feeds = fetch_and_clean_news(RSS_FEEDS)\n"
      ]
    },
    {
      "cell_type": "code",
      "execution_count": null,
      "metadata": {
        "id": "1TA-hkfbmTZS"
      },
      "outputs": [],
      "source": [
        "print(f\"Total de notícias coletadas: {len(df_feeds)}\")\n",
        "df_feeds.head()"
      ]
    },
    {
      "cell_type": "code",
      "execution_count": null,
      "metadata": {
        "id": "uSuVq5c1kfIH"
      },
      "outputs": [],
      "source": [
        "df_feeds['content_for_embedding'] = df_feeds['titulo'] + \". \" + df_feeds['descricao']"
      ]
    },
    {
      "cell_type": "markdown",
      "metadata": {
        "id": "rpWJNGUjPlM-"
      },
      "source": [
        "## Vetorização do Conteúdo e Indexação"
      ]
    },
    {
      "cell_type": "code",
      "execution_count": null,
      "metadata": {
        "id": "EswcvZ3Skwjx"
      },
      "outputs": [],
      "source": [
        "embedding_model = SentenceTransformer('paraphrase-multilingual-MiniLM-L12-v2', device='cuda')\n",
        "\n",
        "contents_to_embed = df_feeds['content_for_embedding'].tolist()\n",
        "embeddings = embedding_model.encode(contents_to_embed, show_progress_bar=True)\n",
        "\n",
        "d = embeddings.shape[1]\n",
        "index = faiss.IndexFlatL2(d)\n",
        "index.add(np.array(embeddings).astype('float32'))\n",
        "\n",
        "print(f\"\\nShape dos embeddings: {embeddings.shape}\")\n",
        "print(f\"Total de documentos indexados no FAISS: {index.ntotal}\")"
      ]
    },
    {
      "cell_type": "code",
      "execution_count": null,
      "metadata": {
        "id": "UmWTX2FHqxln"
      },
      "outputs": [],
      "source": [
        "def search_similar_news(query, k=4):\n",
        "    query_embedding = embedding_model.encode([query])\n",
        "    distances, indices = index.search(np.array(query_embedding).astype('float32'), k)\n",
        "    retrieved_docs = df_feeds.iloc[indices[0]]\n",
        "    return retrieved_docs"
      ]
    },
    {
      "cell_type": "markdown",
      "metadata": {
        "id": "FXUZ_Fo3Px0c"
      },
      "source": [
        "## Configuração do Modelo de Linguagem (LLM) para Geração"
      ]
    },
    {
      "cell_type": "code",
      "execution_count": null,
      "metadata": {
        "id": "X_zE4yzXq0BZ",
        "scrolled": true
      },
      "outputs": [],
      "source": [
        "#model_name = \"stabilityai/stablelm-zephyr-3b\"\n",
        "model_name = \"HuggingFaceH4/zephyr-7b-beta\"\n",
        "\n",
        "bnb_config = {\n",
        "    \"load_in_4bit\": True,\n",
        "    \"bnb_4bit_quant_type\": \"nf4\",\n",
        "    \"bnb_4bit_compute_dtype\": torch.bfloat16,\n",
        "}\n",
        "\n",
        "model = AutoModelForCausalLM.from_pretrained(\n",
        "    model_name,\n",
        "    quantization_config=bnb_config,\n",
        "    torch_dtype=torch.bfloat16,\n",
        "    device_map={\"\": 0},\n",
        "    trust_remote_code=True,\n",
        ")\n",
        "\n",
        "\n",
        "tokenizer = AutoTokenizer.from_pretrained(model_name)\n",
        "\n",
        "text_generator = pipeline(\n",
        "    \"text-generation\",\n",
        "    model=model,\n",
        "    tokenizer=tokenizer,\n",
        "    max_new_tokens=512,\n",
        "    do_sample=True,\n",
        "    temperature=0.3,\n",
        "    top_p=0.9,\n",
        ")"
      ]
    },
    {
      "cell_type": "markdown",
      "metadata": {
        "id": "XhO0bnUjP5S0"
      },
      "source": [
        "## \tSistema de Resposta com Geração Aumentada por Recuperação (RAG)"
      ]
    },
    {
      "cell_type": "code",
      "execution_count": null,
      "metadata": {
        "id": "rpRhiZxpq3V-"
      },
      "outputs": [],
      "source": [
        "def generate_answer(query, search_results):\n",
        "    descriptions = [d[:2000] for d in search_results['descricao'].tolist()]\n",
        "    context = \"\\n\\n\".join(descriptions)\n",
        "\n",
        "    prompt_template = f\"\"\"<|system|>\n",
        "Você é um assistente de notícias especializado em análise precisa e linguagem sofisticada. Sua tarefa é responder à pergunta do usuário usando APENAS o contexto fornecido. Não invente informações além do contexto. Se a resposta não estiver no contexto, diga: \"Com base nas notícias analisadas, não tenho informações suficientes para responder a essa pergunta.\"\n",
        "\n",
        "Regras:\n",
        "1. Use linguagem formal e, quando possível, termos técnicos ou eruditos relacionados ao tema.\n",
        "2. Seja conciso, mas inclua análise breve quando existirem dados conflitantes.\n",
        "3. Se houver dados conflitantes, explique brevemente a divergência antes de responder.\n",
        "4. Sempre indique claramente se a informação é insuficiente para responder.\n",
        "5. Resuma em 2 ou 3 frases claras e objetivas.\n",
        "6. Não use linguagem coloquial.\n",
        "\n",
        "Contexto:\n",
        "{context}\n",
        "\n",
        "Pergunta: {query}</s>\n",
        "<|assistant|>\n",
        "\"\"\"\n",
        "\n",
        "    response = text_generator(prompt_template)\n",
        "\n",
        "    return response[0]['generated_text'].split(\"<|assistant|>\")[1].strip()\n"
      ]
    },
    {
      "cell_type": "markdown",
      "metadata": {
        "id": "F2JC2EpQQHqf"
      },
      "source": [
        "### Exemplos"
      ]
    },
    {
      "cell_type": "code",
      "execution_count": null,
      "metadata": {
        "id": "dF7SuGaawi2z"
      },
      "outputs": [],
      "source": [
        "\n",
        "torch.cuda.empty_cache()\n",
        "gc.collect()\n",
        "\n",
        "#user_query = \"O dolar aumentou ou desceu?\"\n",
        "user_query = \"O dólar incidiu em apreciação ou padeceu de depreciação?\"\n",
        "#user_query = \"O dólar incorreu em hipertrofia valorativa ou padeceu de depauperação cambial?\"\n",
        "retrieved_news = search_similar_news(user_query, k=5)\n",
        "\n",
        "print(\"--- Notícias recuperadas para gerar a resposta: ---\")\n",
        "display(retrieved_news[['titulo', 'fonte']])\n",
        "print(\"--------------------------------------------------\\n\")\n",
        "\n",
        "final_answer = generate_answer(user_query, retrieved_news)\n",
        "\n",
        "print(f\"Pergunta do Usuário: {user_query}\\n\")\n",
        "print(f\"Resposta do Chatbot:\\n{final_answer}\")"
      ]
    }
  ],
  "metadata": {
    "accelerator": "GPU",
    "colab": {
      "gpuType": "T4",
      "provenance": []
    },
    "kernelspec": {
      "display_name": "Python 3 (ipykernel)",
      "language": "python",
      "name": "python3"
    },
    "language_info": {
      "codemirror_mode": {
        "name": "ipython",
        "version": 3
      },
      "file_extension": ".py",
      "mimetype": "text/x-python",
      "name": "python",
      "nbconvert_exporter": "python",
      "pygments_lexer": "ipython3",
      "version": "3.10.16"
    }
  },
  "nbformat": 4,
  "nbformat_minor": 0
}